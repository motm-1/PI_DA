{
 "cells": [
  {
   "cell_type": "code",
   "execution_count": 2,
   "metadata": {},
   "outputs": [],
   "source": [
    "import pandas as pd\n",
    "import numpy as np"
   ]
  },
  {
   "cell_type": "code",
   "execution_count": 3,
   "metadata": {},
   "outputs": [],
   "source": [
    "df = pd.read_csv('src/datasets/AccidentesAviones.csv', index_col=0, parse_dates=['fecha'])\n",
    "df_new = pd.read_csv('src/datasets/Airplane_Crashes_and_Fatalities_Since_1908_20231004123936.csv', encoding='ISO-8859-1', parse_dates=['Date'])"
   ]
  },
  {
   "cell_type": "markdown",
   "metadata": {},
   "source": [
    "Overview of the original dataset."
   ]
  },
  {
   "cell_type": "code",
   "execution_count": 4,
   "metadata": {},
   "outputs": [
    {
     "data": {
      "text/html": [
       "<div>\n",
       "<style scoped>\n",
       "    .dataframe tbody tr th:only-of-type {\n",
       "        vertical-align: middle;\n",
       "    }\n",
       "\n",
       "    .dataframe tbody tr th {\n",
       "        vertical-align: top;\n",
       "    }\n",
       "\n",
       "    .dataframe thead th {\n",
       "        text-align: right;\n",
       "    }\n",
       "</style>\n",
       "<table border=\"1\" class=\"dataframe\">\n",
       "  <thead>\n",
       "    <tr style=\"text-align: right;\">\n",
       "      <th></th>\n",
       "      <th>fecha</th>\n",
       "      <th>HORA declarada</th>\n",
       "      <th>Ruta</th>\n",
       "      <th>OperadOR</th>\n",
       "      <th>flight_no</th>\n",
       "      <th>route</th>\n",
       "      <th>ac_type</th>\n",
       "      <th>registration</th>\n",
       "      <th>cn_ln</th>\n",
       "      <th>all_aboard</th>\n",
       "      <th>PASAJEROS A BORDO</th>\n",
       "      <th>crew_aboard</th>\n",
       "      <th>cantidad de fallecidos</th>\n",
       "      <th>passenger_fatalities</th>\n",
       "      <th>crew_fatalities</th>\n",
       "      <th>ground</th>\n",
       "      <th>summary</th>\n",
       "    </tr>\n",
       "  </thead>\n",
       "  <tbody>\n",
       "    <tr>\n",
       "      <th>0</th>\n",
       "      <td>1908-09-17</td>\n",
       "      <td>1718</td>\n",
       "      <td>Fort Myer, Virginia</td>\n",
       "      <td>Military - U.S. Army</td>\n",
       "      <td>?</td>\n",
       "      <td>Demonstration</td>\n",
       "      <td>Wright Flyer III</td>\n",
       "      <td>?</td>\n",
       "      <td>1</td>\n",
       "      <td>2</td>\n",
       "      <td>1</td>\n",
       "      <td>1</td>\n",
       "      <td>1</td>\n",
       "      <td>1</td>\n",
       "      <td>0</td>\n",
       "      <td>0</td>\n",
       "      <td>During a demonstration flight, a U.S. Army fly...</td>\n",
       "    </tr>\n",
       "    <tr>\n",
       "      <th>1</th>\n",
       "      <td>1909-09-07</td>\n",
       "      <td>?</td>\n",
       "      <td>Juvisy-sur-Orge, France</td>\n",
       "      <td>?</td>\n",
       "      <td>?</td>\n",
       "      <td>Air show</td>\n",
       "      <td>Wright Byplane</td>\n",
       "      <td>SC1</td>\n",
       "      <td>?</td>\n",
       "      <td>1</td>\n",
       "      <td>0</td>\n",
       "      <td>1</td>\n",
       "      <td>1</td>\n",
       "      <td>0</td>\n",
       "      <td>0</td>\n",
       "      <td>0</td>\n",
       "      <td>Eugene Lefebvre was the first pilot to ever be...</td>\n",
       "    </tr>\n",
       "  </tbody>\n",
       "</table>\n",
       "</div>"
      ],
      "text/plain": [
       "       fecha HORA declarada                     Ruta              OperadOR  \\\n",
       "0 1908-09-17           1718      Fort Myer, Virginia  Military - U.S. Army   \n",
       "1 1909-09-07              ?  Juvisy-sur-Orge, France                     ?   \n",
       "\n",
       "  flight_no          route           ac_type registration cn_ln all_aboard  \\\n",
       "0         ?  Demonstration  Wright Flyer III            ?     1          2   \n",
       "1         ?       Air show    Wright Byplane          SC1     ?          1   \n",
       "\n",
       "  PASAJEROS A BORDO crew_aboard cantidad de fallecidos passenger_fatalities  \\\n",
       "0                 1           1                      1                    1   \n",
       "1                 0           1                      1                    0   \n",
       "\n",
       "  crew_fatalities ground                                            summary  \n",
       "0               0      0  During a demonstration flight, a U.S. Army fly...  \n",
       "1               0      0  Eugene Lefebvre was the first pilot to ever be...  "
      ]
     },
     "execution_count": 4,
     "metadata": {},
     "output_type": "execute_result"
    }
   ],
   "source": [
    "df.head(2)"
   ]
  },
  {
   "cell_type": "code",
   "execution_count": 5,
   "metadata": {},
   "outputs": [
    {
     "name": "stdout",
     "output_type": "stream",
     "text": [
      "<class 'pandas.core.frame.DataFrame'>\n",
      "Index: 5008 entries, 0 to 5007\n",
      "Data columns (total 17 columns):\n",
      " #   Column                  Non-Null Count  Dtype         \n",
      "---  ------                  --------------  -----         \n",
      " 0   fecha                   5008 non-null   datetime64[ns]\n",
      " 1   HORA declarada          5008 non-null   object        \n",
      " 2   Ruta                    5008 non-null   object        \n",
      " 3   OperadOR                5008 non-null   object        \n",
      " 4   flight_no               5008 non-null   object        \n",
      " 5   route                   5007 non-null   object        \n",
      " 6   ac_type                 5008 non-null   object        \n",
      " 7   registration            5008 non-null   object        \n",
      " 8   cn_ln                   5008 non-null   object        \n",
      " 9   all_aboard              5008 non-null   object        \n",
      " 10  PASAJEROS A BORDO       5008 non-null   object        \n",
      " 11  crew_aboard             5008 non-null   object        \n",
      " 12  cantidad de fallecidos  5008 non-null   object        \n",
      " 13  passenger_fatalities    5008 non-null   object        \n",
      " 14  crew_fatalities         5008 non-null   object        \n",
      " 15  ground                  5008 non-null   object        \n",
      " 16  summary                 5008 non-null   object        \n",
      "dtypes: datetime64[ns](1), object(16)\n",
      "memory usage: 704.2+ KB\n"
     ]
    }
   ],
   "source": [
    "df.info()"
   ]
  },
  {
   "cell_type": "code",
   "execution_count": 6,
   "metadata": {},
   "outputs": [
    {
     "name": "stdout",
     "output_type": "stream",
     "text": [
      "There aren't any duplicated values in our dataset\n",
      "Shape of the dataset: (5008, 17)\n"
     ]
    }
   ],
   "source": [
    "df.replace('?', np.nan, inplace=True)\n",
    "# Date to filter the new dataset with the necessary information\n",
    "max_date = df['fecha'].max()\n",
    "# Change the original dataset columns names with the new dataset columns name to make possible the concatenation\n",
    "df.columns = df_new.columns.tolist()   \n",
    "\n",
    "if df.drop_duplicates().shape[0] != df.shape[0]:\n",
    "    print(f'There are {df.shape[0] - df.drop_duplicates().shape[0]} duplicated values in our dataset')\n",
    "else:\n",
    "    print(\"There aren't any duplicated values in our dataset\")\n",
    "\n",
    "print(f'Shape of the dataset: {df.shape}') "
   ]
  },
  {
   "cell_type": "markdown",
   "metadata": {},
   "source": [
    "Overview of the new dataset."
   ]
  },
  {
   "cell_type": "code",
   "execution_count": 7,
   "metadata": {},
   "outputs": [
    {
     "data": {
      "text/html": [
       "<div>\n",
       "<style scoped>\n",
       "    .dataframe tbody tr th:only-of-type {\n",
       "        vertical-align: middle;\n",
       "    }\n",
       "\n",
       "    .dataframe tbody tr th {\n",
       "        vertical-align: top;\n",
       "    }\n",
       "\n",
       "    .dataframe thead th {\n",
       "        text-align: right;\n",
       "    }\n",
       "</style>\n",
       "<table border=\"1\" class=\"dataframe\">\n",
       "  <thead>\n",
       "    <tr style=\"text-align: right;\">\n",
       "      <th></th>\n",
       "      <th>Date</th>\n",
       "      <th>Time</th>\n",
       "      <th>Location</th>\n",
       "      <th>Operator</th>\n",
       "      <th>Flight #</th>\n",
       "      <th>Route</th>\n",
       "      <th>AC Type</th>\n",
       "      <th>Registration</th>\n",
       "      <th>cn/ln</th>\n",
       "      <th>Aboard</th>\n",
       "      <th>Aboard Passangers</th>\n",
       "      <th>Aboard Crew</th>\n",
       "      <th>Fatalities</th>\n",
       "      <th>Fatalities Passangers</th>\n",
       "      <th>Fatalities Crew</th>\n",
       "      <th>Ground</th>\n",
       "      <th>Summary</th>\n",
       "    </tr>\n",
       "  </thead>\n",
       "  <tbody>\n",
       "    <tr>\n",
       "      <th>34</th>\n",
       "      <td>2022-11-18</td>\n",
       "      <td>15:11</td>\n",
       "      <td>Lima, Peru</td>\n",
       "      <td>LATAM</td>\n",
       "      <td>LA2213</td>\n",
       "      <td>Lima - Juliaca</td>\n",
       "      <td>Airbus 320-271N</td>\n",
       "      <td>CC-BHB</td>\n",
       "      <td>7864</td>\n",
       "      <td>108</td>\n",
       "      <td>102</td>\n",
       "      <td>6</td>\n",
       "      <td>0</td>\n",
       "      <td>0</td>\n",
       "      <td>0</td>\n",
       "      <td>2.0</td>\n",
       "      <td>The Airbus A320 collided with a fire truck whi...</td>\n",
       "    </tr>\n",
       "    <tr>\n",
       "      <th>35</th>\n",
       "      <td>2022-11-21</td>\n",
       "      <td>10:15</td>\n",
       "      <td>Medellín, Colombia</td>\n",
       "      <td>AeroPaca SAS</td>\n",
       "      <td>NaN</td>\n",
       "      <td>Medellín - Pizarro</td>\n",
       "      <td>Piper PA-31-350 Navajo Chieftain</td>\n",
       "      <td>HK-5121</td>\n",
       "      <td>31-7652004</td>\n",
       "      <td>8</td>\n",
       "      <td>6</td>\n",
       "      <td>2</td>\n",
       "      <td>8</td>\n",
       "      <td>6</td>\n",
       "      <td>2</td>\n",
       "      <td>0.0</td>\n",
       "      <td>The plane was chartered to carry a team of six...</td>\n",
       "    </tr>\n",
       "  </tbody>\n",
       "</table>\n",
       "</div>"
      ],
      "text/plain": [
       "         Date   Time            Location      Operator Flight #  \\\n",
       "34 2022-11-18  15:11          Lima, Peru         LATAM   LA2213   \n",
       "35 2022-11-21  10:15  Medellín, Colombia  AeroPaca SAS      NaN   \n",
       "\n",
       "                 Route                           AC Type Registration  \\\n",
       "34      Lima - Juliaca                   Airbus 320-271N       CC-BHB   \n",
       "35  Medellín - Pizarro  Piper PA-31-350 Navajo Chieftain     HK-5121    \n",
       "\n",
       "         cn/ln  Aboard  Aboard Passangers  Aboard Crew  Fatalities  \\\n",
       "34        7864     108                102            6           0   \n",
       "35  31-7652004       8                  6            2           8   \n",
       "\n",
       "    Fatalities Passangers  Fatalities Crew  Ground  \\\n",
       "34                      0                0     2.0   \n",
       "35                      6                2     0.0   \n",
       "\n",
       "                                              Summary  \n",
       "34  The Airbus A320 collided with a fire truck whi...  \n",
       "35  The plane was chartered to carry a team of six...  "
      ]
     },
     "execution_count": 7,
     "metadata": {},
     "output_type": "execute_result"
    }
   ],
   "source": [
    "df_new.tail(2)"
   ]
  },
  {
   "cell_type": "code",
   "execution_count": 8,
   "metadata": {},
   "outputs": [
    {
     "name": "stdout",
     "output_type": "stream",
     "text": [
      "<class 'pandas.core.frame.DataFrame'>\n",
      "RangeIndex: 36 entries, 0 to 35\n",
      "Data columns (total 17 columns):\n",
      " #   Column                 Non-Null Count  Dtype         \n",
      "---  ------                 --------------  -----         \n",
      " 0   Date                   36 non-null     datetime64[ns]\n",
      " 1   Time                   35 non-null     object        \n",
      " 2   Location               36 non-null     object        \n",
      " 3   Operator               36 non-null     object        \n",
      " 4   Flight #               15 non-null     object        \n",
      " 5   Route                  35 non-null     object        \n",
      " 6   AC Type                36 non-null     object        \n",
      " 7   Registration           35 non-null     object        \n",
      " 8   cn/ln                  36 non-null     object        \n",
      " 9   Aboard                 36 non-null     int64         \n",
      " 10  Aboard Passangers      36 non-null     int64         \n",
      " 11  Aboard Crew            36 non-null     int64         \n",
      " 12  Fatalities             36 non-null     int64         \n",
      " 13  Fatalities Passangers  36 non-null     int64         \n",
      " 14  Fatalities Crew        36 non-null     int64         \n",
      " 15  Ground                 35 non-null     float64       \n",
      " 16  Summary                36 non-null     object        \n",
      "dtypes: datetime64[ns](1), float64(1), int64(6), object(9)\n",
      "memory usage: 4.9+ KB\n"
     ]
    }
   ],
   "source": [
    "df_new.info()"
   ]
  },
  {
   "cell_type": "code",
   "execution_count": 9,
   "metadata": {},
   "outputs": [],
   "source": [
    "# Chose only the unique values\n",
    "df_new = df_new[df_new['Date'] > max_date]"
   ]
  },
  {
   "cell_type": "markdown",
   "metadata": {},
   "source": [
    "Creating and downloading the final dataset."
   ]
  },
  {
   "cell_type": "code",
   "execution_count": 12,
   "metadata": {},
   "outputs": [],
   "source": [
    "final_df = pd.concat((df, df_new))\n",
    "final_df.to_csv('src/datasets/AirplaneCrashes.csv', index=False)"
   ]
  }
 ],
 "metadata": {
  "kernelspec": {
   "display_name": "pi_da",
   "language": "python",
   "name": "python3"
  },
  "language_info": {
   "codemirror_mode": {
    "name": "ipython",
    "version": 3
   },
   "file_extension": ".py",
   "mimetype": "text/x-python",
   "name": "python",
   "nbconvert_exporter": "python",
   "pygments_lexer": "ipython3",
   "version": "3.10.2"
  },
  "orig_nbformat": 4
 },
 "nbformat": 4,
 "nbformat_minor": 2
}
